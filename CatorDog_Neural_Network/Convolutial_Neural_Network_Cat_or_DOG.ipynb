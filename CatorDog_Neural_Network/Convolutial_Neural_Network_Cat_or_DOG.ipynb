{
 "cells": [
  {
   "cell_type": "markdown",
   "metadata": {
    "id": "3DR-eO17geWu"
   },
   "source": [
    "# Convolutional Neural Network"
   ]
  },
  {
   "cell_type": "markdown",
   "metadata": {
    "id": "EMefrVPCg-60"
   },
   "source": [
    "### Importing the libraries"
   ]
  },
  {
   "cell_type": "code",
   "execution_count": 1,
   "metadata": {
    "id": "sCV30xyVhFbE"
   },
   "outputs": [],
   "source": [
    "import tensorflow as tf\n",
    "from keras.preprocessing.image import ImageDataGenerator"
   ]
  },
  {
   "cell_type": "code",
   "execution_count": 2,
   "metadata": {
    "colab": {
     "base_uri": "https://localhost:8080/",
     "height": 35
    },
    "id": "FIleuCAjoFD8",
    "outputId": "f694ef2e-8b04-43e8-ab1f-dc27288980a4"
   },
   "outputs": [
    {
     "data": {
      "text/plain": [
       "'2.4.1'"
      ]
     },
     "execution_count": 2,
     "metadata": {},
     "output_type": "execute_result"
    }
   ],
   "source": [
    "tf.__version__"
   ]
  },
  {
   "cell_type": "markdown",
   "metadata": {
    "id": "oxQxCBWyoGPE"
   },
   "source": [
    "## Part 1 - Data Preprocessing"
   ]
  },
  {
   "cell_type": "markdown",
   "metadata": {
    "id": "MvE-heJNo3GG"
   },
   "source": [
    "### Preprocessing the Training set"
   ]
  },
  {
   "cell_type": "code",
   "execution_count": 3,
   "metadata": {
    "colab": {
     "base_uri": "https://localhost:8080/",
     "height": 357
    },
    "id": "I6gcExwaUVpX",
    "outputId": "33e0d641-64b8-489a-dda5-4e232db3c321"
   },
   "outputs": [
    {
     "name": "stdout",
     "output_type": "stream",
     "text": [
      "Found 8000 images belonging to 2 classes.\n"
     ]
    }
   ],
   "source": [
    "train_datagen = ImageDataGenerator(\n",
    "      rescale = 1./255,\n",
    "      shear_range = 0.2,\n",
    "      zoom_range =0.2,\n",
    "      horizontal_flip = True)\n",
    "training_set = train_datagen.flow_from_directory(\n",
    "      'dataset/training_set',\n",
    "      target_size = (64,64),\n",
    "      batch_size =32,\n",
    "      class_mode = 'binary')\n"
   ]
  },
  {
   "cell_type": "markdown",
   "metadata": {
    "id": "mrCMmGw9pHys"
   },
   "source": [
    "### Preprocessing the Test set"
   ]
  },
  {
   "cell_type": "code",
   "execution_count": 4,
   "metadata": {
    "colab": {
     "base_uri": "https://localhost:8080/",
     "height": 357
    },
    "id": "Dlj1xiBIW7po",
    "outputId": "e04af4a7-1a19-4009-8853-199a3f9095ad"
   },
   "outputs": [
    {
     "name": "stdout",
     "output_type": "stream",
     "text": [
      "Found 2000 images belonging to 2 classes.\n"
     ]
    }
   ],
   "source": [
    "test_datagen = ImageDataGenerator(\n",
    "      rescale = 1./255)\n",
    "test_set = test_datagen.flow_from_directory(\n",
    "      'dataset/test_set',\n",
    "      target_size = (64,64),\n",
    "      batch_size = 32,\n",
    "      class_mode = 'binary')\n"
   ]
  },
  {
   "cell_type": "markdown",
   "metadata": {
    "id": "af8O4l90gk7B"
   },
   "source": [
    "## Part 2 - Building the CNN"
   ]
  },
  {
   "cell_type": "markdown",
   "metadata": {
    "id": "ces1gXY2lmoX"
   },
   "source": [
    "### Initialising the CNN"
   ]
  },
  {
   "cell_type": "code",
   "execution_count": 5,
   "metadata": {
    "id": "Wyx4BlLpZ7j_"
   },
   "outputs": [],
   "source": [
    "cnn = tf.keras.models.Sequential()"
   ]
  },
  {
   "cell_type": "markdown",
   "metadata": {
    "id": "u5YJj_XMl5LF"
   },
   "source": [
    "### Step 1 - Convolution"
   ]
  },
  {
   "cell_type": "code",
   "execution_count": 6,
   "metadata": {
    "id": "DQ7OevUMaWMF"
   },
   "outputs": [],
   "source": [
    "cnn.add(tf.keras.layers.Conv2D(filters= 32, kernel_size=3, activation='relu',input_shape = [64,64, 3]))"
   ]
  },
  {
   "cell_type": "markdown",
   "metadata": {
    "id": "tf87FpvxmNOJ"
   },
   "source": [
    "### Step 2 - Pooling"
   ]
  },
  {
   "cell_type": "code",
   "execution_count": 7,
   "metadata": {
    "id": "VtTyGpKTbf-S"
   },
   "outputs": [],
   "source": [
    "cnn.add(tf.keras.layers.MaxPool2D(pool_size=2, strides=2))"
   ]
  },
  {
   "cell_type": "markdown",
   "metadata": {
    "id": "xaTOgD8rm4mU"
   },
   "source": [
    "### Adding a second convolutional layer"
   ]
  },
  {
   "cell_type": "code",
   "execution_count": 8,
   "metadata": {
    "id": "jGKvYMOteu76"
   },
   "outputs": [],
   "source": [
    "cnn.add(tf.keras.layers.Conv2D(filters= 32, kernel_size=3, activation='relu'))\n",
    "cnn.add(tf.keras.layers.MaxPool2D(pool_size=2, strides=2))"
   ]
  },
  {
   "cell_type": "markdown",
   "metadata": {
    "id": "tmiEuvTunKfk"
   },
   "source": [
    "### Step 3 - Flattening"
   ]
  },
  {
   "cell_type": "code",
   "execution_count": 9,
   "metadata": {
    "id": "tFaW5h-le-YY"
   },
   "outputs": [],
   "source": [
    "cnn.add(tf.keras.layers.Flatten())"
   ]
  },
  {
   "cell_type": "markdown",
   "metadata": {
    "id": "dAoSECOm203v"
   },
   "source": [
    "### Step 4 - Full Connection"
   ]
  },
  {
   "cell_type": "code",
   "execution_count": 10,
   "metadata": {
    "id": "q8RN9GZVfTlP"
   },
   "outputs": [],
   "source": [
    "cnn.add(tf.keras.layers.Dense(units=128, activation='relu'))"
   ]
  },
  {
   "cell_type": "markdown",
   "metadata": {
    "id": "yTldFvbX28Na"
   },
   "source": [
    "### Step 5 - Output Layer"
   ]
  },
  {
   "cell_type": "code",
   "execution_count": 11,
   "metadata": {
    "id": "YmiO4QFhf0of"
   },
   "outputs": [],
   "source": [
    "cnn.add(tf.keras.layers.Dense(units=1, activation= 'sigmoid'))"
   ]
  },
  {
   "cell_type": "markdown",
   "metadata": {
    "id": "D6XkI90snSDl"
   },
   "source": [
    "## Part 3 - Training the CNN"
   ]
  },
  {
   "cell_type": "markdown",
   "metadata": {
    "id": "vfrFQACEnc6i"
   },
   "source": [
    "### Compiling the CNN"
   ]
  },
  {
   "cell_type": "code",
   "execution_count": 12,
   "metadata": {
    "id": "WsaxuxR4gYsX"
   },
   "outputs": [],
   "source": [
    "cnn.compile(optimizer = 'adam', loss = 'binary_crossentropy',metrics = ['accuracy'])"
   ]
  },
  {
   "cell_type": "markdown",
   "metadata": {
    "id": "ehS-v3MIpX2h"
   },
   "source": [
    "### Training the CNN on the Training set and evaluating it on the Test set"
   ]
  },
  {
   "cell_type": "code",
   "execution_count": 13,
   "metadata": {
    "id": "hcdUFuTEg3jP"
   },
   "outputs": [
    {
     "name": "stdout",
     "output_type": "stream",
     "text": [
      "Epoch 1/25\n",
      "250/250 [==============================] - 34s 132ms/step - loss: 0.7091 - accuracy: 0.5185 - val_loss: 0.6468 - val_accuracy: 0.6365\n",
      "Epoch 2/25\n",
      "250/250 [==============================] - 29s 117ms/step - loss: 0.6324 - accuracy: 0.6449 - val_loss: 0.5864 - val_accuracy: 0.6955\n",
      "Epoch 3/25\n",
      "250/250 [==============================] - 29s 117ms/step - loss: 0.5942 - accuracy: 0.6873 - val_loss: 0.6548 - val_accuracy: 0.6140\n",
      "Epoch 4/25\n",
      "250/250 [==============================] - 29s 117ms/step - loss: 0.5560 - accuracy: 0.7158 - val_loss: 0.5212 - val_accuracy: 0.7560\n",
      "Epoch 5/25\n",
      "250/250 [==============================] - 30s 121ms/step - loss: 0.5250 - accuracy: 0.7358 - val_loss: 0.5237 - val_accuracy: 0.7555\n",
      "Epoch 6/25\n",
      "250/250 [==============================] - 30s 119ms/step - loss: 0.4909 - accuracy: 0.7551 - val_loss: 0.4991 - val_accuracy: 0.7670\n",
      "Epoch 7/25\n",
      "250/250 [==============================] - 29s 117ms/step - loss: 0.4762 - accuracy: 0.7684 - val_loss: 0.5004 - val_accuracy: 0.7630\n",
      "Epoch 8/25\n",
      "250/250 [==============================] - 29s 117ms/step - loss: 0.4477 - accuracy: 0.7854 - val_loss: 0.4693 - val_accuracy: 0.7890\n",
      "Epoch 9/25\n",
      "250/250 [==============================] - 29s 117ms/step - loss: 0.4309 - accuracy: 0.7952 - val_loss: 0.4655 - val_accuracy: 0.7885\n",
      "Epoch 10/25\n",
      "250/250 [==============================] - 29s 118ms/step - loss: 0.4213 - accuracy: 0.8016 - val_loss: 0.4532 - val_accuracy: 0.7960\n",
      "Epoch 11/25\n",
      "250/250 [==============================] - 30s 119ms/step - loss: 0.3859 - accuracy: 0.8240 - val_loss: 0.4957 - val_accuracy: 0.7835\n",
      "Epoch 12/25\n",
      "250/250 [==============================] - 29s 116ms/step - loss: 0.3734 - accuracy: 0.8283 - val_loss: 0.5222 - val_accuracy: 0.7700\n",
      "Epoch 13/25\n",
      "250/250 [==============================] - 29s 116ms/step - loss: 0.3801 - accuracy: 0.8280 - val_loss: 0.5056 - val_accuracy: 0.7600\n",
      "Epoch 14/25\n",
      "250/250 [==============================] - 29s 117ms/step - loss: 0.3480 - accuracy: 0.8463 - val_loss: 0.4717 - val_accuracy: 0.8010\n",
      "Epoch 15/25\n",
      "250/250 [==============================] - 29s 116ms/step - loss: 0.3342 - accuracy: 0.8551 - val_loss: 0.4663 - val_accuracy: 0.8065\n",
      "Epoch 16/25\n",
      "250/250 [==============================] - 29s 117ms/step - loss: 0.3146 - accuracy: 0.8620 - val_loss: 0.5116 - val_accuracy: 0.7920\n",
      "Epoch 17/25\n",
      "250/250 [==============================] - 29s 116ms/step - loss: 0.3027 - accuracy: 0.8696 - val_loss: 0.4887 - val_accuracy: 0.7945\n",
      "Epoch 18/25\n",
      "250/250 [==============================] - 29s 118ms/step - loss: 0.2952 - accuracy: 0.8693 - val_loss: 0.5712 - val_accuracy: 0.7850\n",
      "Epoch 19/25\n",
      "250/250 [==============================] - 29s 115ms/step - loss: 0.2700 - accuracy: 0.8801 - val_loss: 0.5378 - val_accuracy: 0.8005\n",
      "Epoch 20/25\n",
      "250/250 [==============================] - 29s 116ms/step - loss: 0.2505 - accuracy: 0.9017 - val_loss: 0.4680 - val_accuracy: 0.8065\n",
      "Epoch 21/25\n",
      "250/250 [==============================] - 29s 116ms/step - loss: 0.2385 - accuracy: 0.9039 - val_loss: 0.5163 - val_accuracy: 0.8000\n",
      "Epoch 22/25\n",
      "250/250 [==============================] - 29s 116ms/step - loss: 0.2165 - accuracy: 0.9117 - val_loss: 0.5672 - val_accuracy: 0.7990\n",
      "Epoch 23/25\n",
      "250/250 [==============================] - 29s 115ms/step - loss: 0.2030 - accuracy: 0.9206 - val_loss: 0.5601 - val_accuracy: 0.7980\n",
      "Epoch 24/25\n",
      "250/250 [==============================] - 29s 115ms/step - loss: 0.1998 - accuracy: 0.9157 - val_loss: 0.5782 - val_accuracy: 0.8110\n",
      "Epoch 25/25\n",
      "250/250 [==============================] - 29s 116ms/step - loss: 0.1824 - accuracy: 0.9302 - val_loss: 0.5969 - val_accuracy: 0.7870\n"
     ]
    },
    {
     "data": {
      "text/plain": [
       "<tensorflow.python.keras.callbacks.History at 0x1e98acf4400>"
      ]
     },
     "execution_count": 13,
     "metadata": {},
     "output_type": "execute_result"
    }
   ],
   "source": [
    "cnn.fit(x = training_set, validation_data= test_set, epochs= 25)"
   ]
  },
  {
   "cell_type": "markdown",
   "metadata": {
    "id": "U3PZasO0006Z"
   },
   "source": [
    "## Part 4 - Making a single prediction"
   ]
  },
  {
   "cell_type": "code",
   "execution_count": 72,
   "metadata": {
    "id": "N0vFN8i4hsMN"
   },
   "outputs": [],
   "source": [
    "import numpy as np\n",
    "from keras.preprocessing import image\n",
    "test_image = image.load_img('dataset/single_prediction/cat_or_dog_16.jpg', target_size = (64,64))\n",
    "test_image = image.img_to_array(test_image)\n",
    "test_image = np.expand_dims(test_image, axis = 0)\n",
    "result = cnn.predict(test_image)\n",
    "training_set.class_indices\n",
    "if result[0][0] == 1:\n",
    "  prediction = 'dog'\n",
    "else:\n",
    "  prediction = 'cat'"
   ]
  },
  {
   "cell_type": "code",
   "execution_count": 73,
   "metadata": {
    "id": "_cSVqiLClJsI"
   },
   "outputs": [
    {
     "name": "stdout",
     "output_type": "stream",
     "text": [
      "dog\n"
     ]
    }
   ],
   "source": [
    "print(prediction)"
   ]
  },
  {
   "cell_type": "code",
   "execution_count": null,
   "metadata": {},
   "outputs": [],
   "source": []
  }
 ],
 "metadata": {
  "colab": {
   "collapsed_sections": [],
   "name": "Kopia notatnika convolutional_neural_network.ipynb",
   "provenance": [],
   "toc_visible": true
  },
  "kernelspec": {
   "display_name": "Python 3",
   "language": "python",
   "name": "python3"
  },
  "language_info": {
   "codemirror_mode": {
    "name": "ipython",
    "version": 3
   },
   "file_extension": ".py",
   "mimetype": "text/x-python",
   "name": "python",
   "nbconvert_exporter": "python",
   "pygments_lexer": "ipython3",
   "version": "3.8.8"
  }
 },
 "nbformat": 4,
 "nbformat_minor": 1
}
